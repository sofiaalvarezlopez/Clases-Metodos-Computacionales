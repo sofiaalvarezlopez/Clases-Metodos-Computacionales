{
 "cells": [
  {
   "cell_type": "code",
   "execution_count": 1,
   "metadata": {},
   "outputs": [],
   "source": [
    "from mpl_toolkits.mplot3d.axes3d import *\n",
    "import matplotlib.pyplot as plt\n",
    "import numpy as np"
   ]
  },
  {
   "cell_type": "markdown",
   "metadata": {},
   "source": [
    "# Tensores\n",
    "Podemos definir los tensores como una progresión matemática de las cantidades escalares y vectoriales. En esta sección vamos a dar definiciones prácticas para ser implementadas numéricamente.\n",
    "1. Escalares: Representadas por un número único, son independientes del sistema de coordenadas.\n",
    "2. Vectores: Representados por una tupla de valores dependientes del sistema de coordenada.\n",
    "3. Tensores de 2do orden: Pueden ser representados por medio de matrices, los cuales, en general, son independientes del sistema de coordenadas.\n",
    "Un tensor puede relacionar dos vectores:\n",
    "$$u = Tv$$\n",
    "Usando la notación de índices:\n",
    "$$u_i = T_{ij}v_j$$"
   ]
  },
  {
   "cell_type": "code",
   "execution_count": 2,
   "metadata": {},
   "outputs": [
    {
     "name": "stdout",
     "output_type": "stream",
     "text": [
      "[[2. 1. 1.]\n",
      " [2. 3. 2.]\n",
      " [3. 3. 4.]]\n"
     ]
    }
   ],
   "source": [
    "T = np.ones((3,3))\n",
    "for i in range(len(T)):\n",
    "    for j in range(len(T)):\n",
    "        if i!=j:\n",
    "            T[i,j] = i+1\n",
    "        else:\n",
    "            T[i,j] = j+2\n",
    "print(T)"
   ]
  },
  {
   "cell_type": "code",
   "execution_count": 3,
   "metadata": {},
   "outputs": [],
   "source": [
    "#Creamos dos vectores\n",
    "u = np.zeros(3)\n",
    "v = np.array([1,2,2])"
   ]
  },
  {
   "cell_type": "code",
   "execution_count": 4,
   "metadata": {},
   "outputs": [
    {
     "name": "stdout",
     "output_type": "stream",
     "text": [
      "[ 6. 12. 17.]\n"
     ]
    }
   ],
   "source": [
    "#Transformamos el vector v en u\n",
    "for i in range(3):\n",
    "    u[i] = 0\n",
    "    for j in range(3):\n",
    "        u[i] = u[i] + T[i,j]*v[j]\n",
    "    \n",
    "print(u)"
   ]
  },
  {
   "cell_type": "markdown",
   "metadata": {},
   "source": [
    "Los tensores pueden ser construidos a partir del producto de Kronecker de dos vectores \n",
    "$$T = u \\otimes v$$\n",
    "Usando la notación de índices,\n",
    "$$T_{ij} = u_i v_j$$"
   ]
  },
  {
   "cell_type": "code",
   "execution_count": 6,
   "metadata": {},
   "outputs": [],
   "source": [
    "S = np.ones((2,2))\n",
    "sz1 = np.array([1,0])\n",
    "sz2 = np.array([0,1])"
   ]
  },
  {
   "cell_type": "code",
   "execution_count": 13,
   "metadata": {},
   "outputs": [
    {
     "name": "stdout",
     "output_type": "stream",
     "text": [
      "[[0. 1.]\n",
      " [0. 0.]]\n"
     ]
    }
   ],
   "source": [
    "for i in range(len(S)):\n",
    "    for j in range(len(S)):\n",
    "        S[i,j] = sz1[i] * sz2[j] #Producto de Kronecker\n",
    "\n",
    "print(S)"
   ]
  },
  {
   "cell_type": "code",
   "execution_count": 18,
   "metadata": {},
   "outputs": [
    {
     "name": "stdout",
     "output_type": "stream",
     "text": [
      "[[ 6. 12. 12.]\n",
      " [12. 24. 24.]\n",
      " [17. 34. 34.]]\n"
     ]
    }
   ],
   "source": [
    "T = np.ones((3,3))\n",
    "for i in range(len(T)):\n",
    "    for j in range(len(T)):\n",
    "        T[i,j] = u[i]*v[j]\n",
    "print(T)"
   ]
  },
  {
   "cell_type": "markdown",
   "metadata": {},
   "source": [
    "Si b representa una matriz de cambio de coordenadas, las nuevas componentes del tensor se obtienen a través del tensor original. Esto es lo que realmente define a los tensores: Sus propiedades de transformación.\n",
    "$$T' = bTb^T$$\n",
    "En notación de subíndices,\n",
    "$$T'_{ij} = b_{ik}b_{jl}T_{kl} $$\n",
    "También podemos encontrar el tensor original usando el tensor nuevo:\n",
    "$$T = b^T T' b$$\n",
    "1. Definamos una matriz que representa una rotación alrededor del eje."
   ]
  },
  {
   "cell_type": "code",
   "execution_count": 19,
   "metadata": {},
   "outputs": [
    {
     "name": "stdout",
     "output_type": "stream",
     "text": [
      "[[ 0.70710678 -0.70710678  0.        ]\n",
      " [ 0.70710678  0.70710678  0.        ]\n",
      " [ 0.          0.          1.        ]]\n"
     ]
    }
   ],
   "source": [
    "theta = np.pi/4.0\n",
    "\n",
    "b = np.array( [[np.cos(theta), -np.sin(theta), 0], [ np.sin(theta), np.cos(theta), 0], [0.,0.,1.]]) \n",
    "print(b)"
   ]
  },
  {
   "cell_type": "code",
   "execution_count": 20,
   "metadata": {},
   "outputs": [
    {
     "name": "stdout",
     "output_type": "stream",
     "text": [
      "[[  3.          -9.          -8.48528137]\n",
      " [ -9.          27.          25.45584412]\n",
      " [-12.02081528  36.06244584  34.        ]]\n"
     ]
    }
   ],
   "source": [
    "# Encontrar las componentes usando indices\n",
    "\n",
    "Tprime = np.zeros((3,3))\n",
    "\n",
    "for i in range(len(T)):\n",
    "    for j in range(len(T)):\n",
    "        for k in range(len(T)):\n",
    "            for l in range(len(T)):\n",
    "                Tprime[i,j] = Tprime[i,j] + b[i,k]*b[j,l]*T[k,l]\n",
    "\n",
    "print(Tprime)"
   ]
  },
  {
   "cell_type": "code",
   "execution_count": 22,
   "metadata": {},
   "outputs": [
    {
     "name": "stdout",
     "output_type": "stream",
     "text": [
      "[[  3.          -9.          -8.48528137]\n",
      " [ -9.          27.          25.45584412]\n",
      " [-12.02081528  36.06244584  34.        ]]\n"
     ]
    }
   ],
   "source": [
    "# Encontrar usando las formas matriciales\n",
    "Tprime2 = b @ T @ b.T\n",
    "print(Tprime2)"
   ]
  },
  {
   "cell_type": "markdown",
   "metadata": {},
   "source": [
    "#### También podemos transformar primero los vectores y posteriormente hacer el producto de Kronecker"
   ]
  },
  {
   "cell_type": "code",
   "execution_count": 24,
   "metadata": {},
   "outputs": [
    {
     "name": "stdout",
     "output_type": "stream",
     "text": [
      "[-4.24264069 12.72792206 17.        ]\n",
      "[-0.70710678  2.12132034  2.        ]\n"
     ]
    }
   ],
   "source": [
    "uprime = np.zeros(3)\n",
    "vprime = np.zeros(3)\n",
    "\n",
    "for i in range(len(uprime)):\n",
    "    for j in range(len(uprime)):\n",
    "        uprime[i] += b[i,j]*u[j]\n",
    "        vprime[i] += b[i,j]*v[j]\n",
    "print(uprime)\n",
    "print(vprime)"
   ]
  },
  {
   "cell_type": "code",
   "execution_count": 25,
   "metadata": {},
   "outputs": [
    {
     "name": "stdout",
     "output_type": "stream",
     "text": [
      "[[  3.          -9.          -8.48528137]\n",
      " [ -9.          27.          25.45584412]\n",
      " [-12.02081528  36.06244584  34.        ]]\n"
     ]
    }
   ],
   "source": [
    "Tprime3 = np.ones((3,3))\n",
    "\n",
    "for i in range(len(uprime)):\n",
    "    for j in range(len(uprime)):\n",
    "        Tprime3[i,j] = uprime[i]*vprime[j]\n",
    "        \n",
    "print(Tprime3)"
   ]
  },
  {
   "cell_type": "markdown",
   "metadata": {},
   "source": [
    "# Ejes principales de un tensor\n",
    "Los tensores pueden ser simétricos (T_{ij}, T{ji}). Siempre es posible encontrar un sistema de coordenadas donde el tensor tome una forma diagonal. Podemos encontrar los ejes principales encontrando los valores y vectores propios."
   ]
  },
  {
   "cell_type": "code",
   "execution_count": 26,
   "metadata": {},
   "outputs": [
    {
     "name": "stdout",
     "output_type": "stream",
     "text": [
      "[[-4.  3. -1.]\n",
      " [ 3.  3. -3.]\n",
      " [-1. -3.  2.]]\n"
     ]
    }
   ],
   "source": [
    "T = np.ones((3,3))\n",
    "T[0,0] = -4.0\n",
    "T[1,1] = 3.0\n",
    "T[2,2] = 2.0\n",
    "T[0,1] = 3.0; T[1,0] = T[0,1]\n",
    "T[0,2] = -1.0; T[2,0] = T[0,2]\n",
    "T[1,2] = -3.0; T[2,1] = T[1,2]\n",
    "print(T)"
   ]
  },
  {
   "cell_type": "code",
   "execution_count": 27,
   "metadata": {},
   "outputs": [
    {
     "name": "stdout",
     "output_type": "stream",
     "text": [
      "[ 6.38719536 -5.11153053 -0.27566482]\n",
      "[[-0.27656948 -0.93570162  0.21902465]\n",
      " [-0.76272731  0.35237891  0.54228789]\n",
      " [ 0.58459932  0.0170758   0.81114244]]\n"
     ]
    }
   ],
   "source": [
    "valores, vectores = np.linalg.eig(T)\n",
    "print(valores)\n",
    "print(vectores)"
   ]
  },
  {
   "cell_type": "markdown",
   "metadata": {},
   "source": [
    "$T = ADA^T$"
   ]
  },
  {
   "cell_type": "code",
   "execution_count": 28,
   "metadata": {},
   "outputs": [
    {
     "name": "stdout",
     "output_type": "stream",
     "text": [
      "[[ 6.38719536  0.          0.        ]\n",
      " [ 0.         -5.11153053  0.        ]\n",
      " [ 0.          0.         -0.27566482]]\n"
     ]
    }
   ],
   "source": [
    "D = np.zeros((3,3))\n",
    "\n",
    "for i in range(len(D)):\n",
    "    for j in range(len(D)):\n",
    "        if i==j:\n",
    "            D[i,j] = valores[i]\n",
    "print(D)"
   ]
  },
  {
   "cell_type": "code",
   "execution_count": 31,
   "metadata": {},
   "outputs": [
    {
     "name": "stdout",
     "output_type": "stream",
     "text": [
      "[[-4.  3. -1.]\n",
      " [ 3.  3. -3.]\n",
      " [-1. -3.  2.]]\n"
     ]
    }
   ],
   "source": [
    "Tprime = vectores @ D @ vectores.T\n",
    "print(Tprime)"
   ]
  },
  {
   "cell_type": "markdown",
   "metadata": {},
   "source": [
    "# El tensor de inercia: Crear datos"
   ]
  },
  {
   "cell_type": "code",
   "execution_count": 39,
   "metadata": {},
   "outputs": [],
   "source": [
    "def CreateData(Npoints, R):\n",
    "    \n",
    "    X = []\n",
    "    Y = []\n",
    "    Z = []\n",
    "    \n",
    "    for i in range(Npoints):\n",
    "        \n",
    "        phi = np.random.uniform(0., 2*np.pi) \n",
    "        costheta = np.random.uniform(-1.,1.)\n",
    "        theta = np.arccos(costheta)\n",
    "        u = np.random.rand()\n",
    "      \n",
    "        a = 1.0\n",
    "        b = 1.5\n",
    "        c = 3.0\n",
    "      \n",
    "        ra = a * u**(1./3.)\n",
    "        rb = b * u**(1./3.)\n",
    "        rc = c * u**(1./3.)\n",
    "        \n",
    "        X = np.append(X, ra*np.cos(phi)*np.sin(theta))\n",
    "        Y = np.append(Y, rb*np.sin(phi)*np.sin(theta))\n",
    "        Z = np.append(Z, rc*np.cos(theta))\n",
    "    \n",
    "    return X, Y, Z"
   ]
  },
  {
   "cell_type": "code",
   "execution_count": 40,
   "metadata": {},
   "outputs": [],
   "source": [
    "data_sphere = CreateData(5000, 1)\n",
    "data_sphere = np.array(data_sphere)"
   ]
  },
  {
   "cell_type": "code",
   "execution_count": 48,
   "metadata": {},
   "outputs": [
    {
     "data": {
      "image/png": "[encoded data removed]",
      "text/plain": [
       "<Figure size 288x288 with 1 Axes>"
      ]
     },
     "metadata": {
      "needs_background": "light"
     },
     "output_type": "display_data"
    }
   ],
   "source": [
    "fig = plt.figure(figsize=(4,4))\n",
    "plt.xlim(-3.,3.)\n",
    "plt.ylim(-3.,3.)\n",
    "plt.scatter(data_sphere[1], data_sphere[2])\n",
    "plt.show()"
   ]
  },
  {
   "cell_type": "code",
   "execution_count": 60,
   "metadata": {},
   "outputs": [
    {
     "name": "stdout",
     "output_type": "stream",
     "text": [
      "[[ 1.000000e+00  0.000000e+00  0.000000e+00]\n",
      " [ 0.000000e+00  6.123234e-17 -1.000000e+00]\n",
      " [ 0.000000e+00  1.000000e+00  6.123234e-17]]\n"
     ]
    }
   ],
   "source": [
    "# Vamos a crear una matriz de rotacion\n",
    "# hacemos rotación alrededor de\n",
    "theta = np.pi/2\n",
    "\n",
    "rota = np.array([[1.,0.,0.],[0., np.cos(theta), -np.sin(theta)], [ 0., np.sin(theta), np.cos(theta)]]) \n",
    "print(rota)"
   ]
  },
  {
   "cell_type": "code",
   "execution_count": 61,
   "metadata": {},
   "outputs": [],
   "source": [
    "new_data = rota.T @ data_sphere #Transformar datos"
   ]
  },
  {
   "cell_type": "code",
   "execution_count": 62,
   "metadata": {},
   "outputs": [
    {
     "data": {
      "image/png": "[encoded data removed]",
      "text/plain": [
       "<Figure size 288x288 with 1 Axes>"
      ]
     },
     "metadata": {
      "needs_background": "light"
     },
     "output_type": "display_data"
    }
   ],
   "source": [
    "fig = plt.figure(figsize=(4,4))\n",
    "plt.xlim(-3.,3.)\n",
    "plt.ylim(-3.,3.)\n",
    "plt.scatter(new_data[1], new_data[2])\n",
    "plt.show()"
   ]
  },
  {
   "cell_type": "code",
   "execution_count": 63,
   "metadata": {},
   "outputs": [
    {
     "data": {
      "image/png": "[encoded data removed]",
      "text/plain": [
       "<Figure size 432x288 with 1 Axes>"
      ]
     },
     "metadata": {
      "needs_background": "light"
     },
     "output_type": "display_data"
    }
   ],
   "source": [
    "fig = plt.figure()\n",
    "ax = Axes3D(fig, elev=18, azim=9)\n",
    "X,Y,Z = new_data[0], new_data[1], new_data[2]\n",
    "ax.scatter(X, Y, Z, marker='.')\n",
    "ax.set_xlim(-3.,3.)\n",
    "ax.set_ylim(-3.,3.)\n",
    "ax.set_zlim(-3.,3.)\n",
    "plt.show()"
   ]
  },
  {
   "cell_type": "code",
   "execution_count": null,
   "metadata": {},
   "outputs": [],
   "source": []
  }
 ],
 "metadata": {
  "kernelspec": {
   "display_name": "Python 3",
   "language": "python",
   "name": "python3"
  },
  "language_info": {
   "codemirror_mode": {
    "name": "ipython",
    "version": 3
   },
   "file_extension": ".py",
   "mimetype": "text/x-python",
   "name": "python",
   "nbconvert_exporter": "python",
   "pygments_lexer": "ipython3",
   "version": "3.8.3"
  }
 },
 "nbformat": 4,
 "nbformat_minor": 4
}
