{
 "cells": [
  {
   "cell_type": "code",
   "execution_count": 2,
   "metadata": {},
   "outputs": [],
   "source": [
    "import numpy as np\n",
    "import matplotlib.pyplot as plt\n",
    "from matplotlib import rc\n",
    "from tqdm import tqdm"
   ]
  },
  {
   "cell_type": "markdown",
   "metadata": {},
   "source": [
    "Queremos calcular el segundo momento de la distribución usando el método de Montecarlo.\n",
    "$$x ~ exp(4)$$\n",
    "$$f(x) = \\frac{1}{4} e^{-x}{4}$$\n",
    "$$ E(x^2) = \\int_0^\\infty \\frac{1}{4}x^2 e^{\\frac{-x}{4}} = 32$$\n",
    "\n",
    "Hacemos un cambio de variable $y = \\frac{1}{1 + x}$"
   ]
  },
  {
   "cell_type": "code",
   "execution_count": 4,
   "metadata": {},
   "outputs": [],
   "source": [
    "def FunctionExp(y):\n",
    "    if(y.any() != 0):\n",
    "        return ( (1/y-1)**2 * np.exp( -(1/y-1)/4 ) )/(4*y**2 )\n",
    "    else:\n",
    "        return 0 "
   ]
  },
  {
   "cell_type": "code",
   "execution_count": 5,
   "metadata": {},
   "outputs": [],
   "source": [
    "def IntegralExacta():\n",
    "    return 32"
   ]
  },
  {
   "cell_type": "code",
   "execution_count": 10,
   "metadata": {},
   "outputs": [],
   "source": [
    "def MCIntegral(N = 100):\n",
    "    x = np.random.rand(N)\n",
    "    return np.sum(FunctionExp(x))/N"
   ]
  },
  {
   "cell_type": "code",
   "execution_count": 24,
   "metadata": {},
   "outputs": [
    {
     "name": "stdout",
     "output_type": "stream",
     "text": [
      "26.45400878035065\n"
     ]
    }
   ],
   "source": [
    "Integral = MCIntegral(N = 100)\n",
    "print(Integral)"
   ]
  },
  {
   "cell_type": "code",
   "execution_count": 36,
   "metadata": {},
   "outputs": [
    {
     "name": "stdout",
     "output_type": "stream",
     "text": [
      "[    100     372    1389    5179   19306   71968  268269 1000000]\n"
     ]
    }
   ],
   "source": [
    "n_intentos = 8\n",
    "puntos = np.int_(np.logspace(2,6,n_intentos))\n",
    "print(puntos)"
   ]
  },
  {
   "cell_type": "code",
   "execution_count": 33,
   "metadata": {},
   "outputs": [],
   "source": [
    "diferencias = np.ones(n_intentos)\n",
    "\n",
    "for i in range(n_intentos):\n",
    "    a = IntegralExacta()\n",
    "    b = MCIntegral(N = puntos[i])\n",
    "    diferencias[i] = np.abs( (a-b)/a )"
   ]
  },
  {
   "cell_type": "code",
   "execution_count": 34,
   "metadata": {},
   "outputs": [
    {
     "data": {
      "image/png": "[encoded data removed]",
      "text/plain": [
       "<Figure size 432x288 with 1 Axes>"
      ]
     },
     "metadata": {
      "needs_background": "light"
     },
     "output_type": "display_data"
    }
   ],
   "source": [
    "plt.plot(puntos, diferencias)\n",
    "plt.yscale('log')\n",
    "plt.show()"
   ]
  },
  {
   "cell_type": "code",
   "execution_count": 37,
   "metadata": {},
   "outputs": [],
   "source": [
    "def f(x):\n",
    "    return np.sin(x)\n",
    "\n",
    "def IntegralExacta():\n",
    "    return 0.5\n",
    "\n",
    "def MCIntegral(N=100):\n",
    "    x = np.random.exponential(size=N)\n",
    "    return np.sum(f((x)))/N"
   ]
  },
  {
   "cell_type": "code",
   "execution_count": 42,
   "metadata": {},
   "outputs": [
    {
     "name": "stdout",
     "output_type": "stream",
     "text": [
      "0.5010051566824807\n"
     ]
    }
   ],
   "source": [
    "print(MCIntegral(100000))"
   ]
  },
  {
   "cell_type": "code",
   "execution_count": 43,
   "metadata": {},
   "outputs": [],
   "source": [
    "diferencias = np.ones(n_intentos)\n",
    "\n",
    "for i in range(n_intentos):\n",
    "    a = IntegralExacta()\n",
    "    b = MCIntegral(N = puntos[i])\n",
    "    diferencias[i] = np.abs( (a-b)/a )"
   ]
  },
  {
   "cell_type": "code",
   "execution_count": 46,
   "metadata": {},
   "outputs": [
    {
     "data": {
      "image/png": "[encoded data removed]",
      "text/plain": [
       "<Figure size 432x288 with 1 Axes>"
      ]
     },
     "metadata": {
      "needs_background": "light"
     },
     "output_type": "display_data"
    }
   ],
   "source": [
    "plt.plot(puntos, diferencias)\n",
    "plt.yscale('log')\n",
    "plt.show()"
   ]
  },
  {
   "cell_type": "code",
   "execution_count": 56,
   "metadata": {},
   "outputs": [
    {
     "name": "stdout",
     "output_type": "stream",
     "text": [
      "1.0025331936076967\n"
     ]
    }
   ],
   "source": [
    "def f(y):\n",
    "    return y*np.sin(y)\n",
    "\n",
    "def IntegralExacta():\n",
    "    return 1\n",
    "\n",
    "def MCIntegral(N=100):\n",
    "    x = np.random.rand(N)*0.5*np.pi\n",
    "    #x = np.random.uniform(0., 0.5*np.pi)\n",
    "    return (0.5*np.pi)*np.sum(f(x))/N\n",
    "    #La funcion de peso es lineal: (b-a)/N 1D\n",
    "    #((b-a)(c-d)) 2D\n",
    "print(MCIntegral(100000))"
   ]
  },
  {
   "cell_type": "markdown",
   "metadata": {},
   "source": [
    "## Método de aceptación y rechazo"
   ]
  },
  {
   "cell_type": "code",
   "execution_count": 105,
   "metadata": {},
   "outputs": [],
   "source": [
    "Npoints = 10000\n",
    "x = np.linspace(0.,np.pi)\n",
    "def f(x):\n",
    "    y = 0.5 * np.sin(x)\n",
    "    if( np.isscalar(x) ): # verificar si es escalar\n",
    "        if( x > np.pi or x < 0 ):\n",
    "            y = 0\n",
    "    else: # si es un array\n",
    "        ii = (x.any() >np.pi) or (x.any() < 0)\n",
    "        y[ii] = 0.\n",
    "    return y"
   ]
  },
  {
   "cell_type": "code",
   "execution_count": 106,
   "metadata": {},
   "outputs": [
    {
     "data": {
      "text/plain": [
       "Text(0, 0.5, 'PDF(x)')"
      ]
     },
     "execution_count": 106,
     "metadata": {},
     "output_type": "execute_result"
    },
    {
     "data": {
      "image/png": "[encoded data removed]",
      "text/plain": [
       "<Figure size 432x288 with 1 Axes>"
      ]
     },
     "metadata": {
      "needs_background": "light"
     },
     "output_type": "display_data"
    }
   ],
   "source": [
    "plt.plot(x,f(x))\n",
    "plt.xlabel('x')\n",
    "plt.ylabel('PDF(x)')"
   ]
  },
  {
   "cell_type": "markdown",
   "metadata": {},
   "source": [
    "Generamos un punto $x_{i}$ de una distribución uniforme entre 0 y $\\pi$, para cada $x_{i}$, generamos un $y_{i}$ de una distribución uniforme entre 0 y el máximo de $f(x)$, nos preguntamos si $y_{i} < f(x_{i})$; si es verdadero, incluimos el valor $x_{i}$ en la lista."
   ]
  },
  {
   "cell_type": "code",
   "execution_count": 121,
   "metadata": {},
   "outputs": [],
   "source": [
    "Npoints = 100000\n",
    "\n",
    "Ninside = 0\n",
    "trials = 0\n",
    "lista= []"
   ]
  },
  {
   "cell_type": "code",
   "execution_count": 122,
   "metadata": {},
   "outputs": [],
   "source": [
    "while  Ninside < Npoints:\n",
    "    xi = np.random.rand()*np.pi\n",
    "    yi = np.random.rand()*0.5 # 0.5 es el maximo de f(x)\n",
    "    \n",
    "    trials += 1\n",
    "    if(yi < f(xi)):\n",
    "        lista.append(xi)\n",
    "        Ninside += 1"
   ]
  },
  {
   "cell_type": "code",
   "execution_count": 123,
   "metadata": {},
   "outputs": [
    {
     "name": "stdout",
     "output_type": "stream",
     "text": [
      "0.6355945669376418\n"
     ]
    }
   ],
   "source": [
    "print(Ninside/float(trials))"
   ]
  },
  {
   "cell_type": "code",
   "execution_count": 124,
   "metadata": {},
   "outputs": [
    {
     "data": {
      "image/png": "[encoded data removed]",
      "text/plain": [
       "<Figure size 432x288 with 1 Axes>"
      ]
     },
     "metadata": {
      "needs_background": "light"
     },
     "output_type": "display_data"
    }
   ],
   "source": [
    "#Pintemos f(x) y la distribucion de frecuencias de xi\n",
    "plt.plot(x, f(x))\n",
    "_ = plt.hist(lista, density=True, bins=x)\n",
    "plt.show()"
   ]
  },
  {
   "cell_type": "code",
   "execution_count": 125,
   "metadata": {},
   "outputs": [
    {
     "name": "stdout",
     "output_type": "stream",
     "text": [
      "1.2347311423214211\n"
     ]
    }
   ],
   "source": [
    "suma = 0\n",
    "for i in lista:\n",
    "    suma += f(i)\n",
    "print(np.pi*suma/len(lista))"
   ]
  }
 ],
 "metadata": {
  "kernelspec": {
   "display_name": "Python 3",
   "language": "python",
   "name": "python3"
  },
  "language_info": {
   "codemirror_mode": {
    "name": "ipython",
    "version": 3
   },
   "file_extension": ".py",
   "mimetype": "text/x-python",
   "name": "python",
   "nbconvert_exporter": "python",
   "pygments_lexer": "ipython3",
   "version": "3.8.3"
  }
 },
 "nbformat": 4,
 "nbformat_minor": 4
}
