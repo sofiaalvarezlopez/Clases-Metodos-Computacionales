{
 "cells": [
  {
   "cell_type": "code",
   "execution_count": 1,
   "metadata": {},
   "outputs": [],
   "source": [
    "import numpy as np \n",
    "import matplotlib.pyplot as plt\n",
    "from matplotlib import rc"
   ]
  },
  {
   "cell_type": "markdown",
   "metadata": {},
   "source": [
    "# Regla del trapecio"
   ]
  },
  {
   "cell_type": "code",
   "execution_count": 2,
   "metadata": {},
   "outputs": [],
   "source": [
    "def Function(x):\n",
    "    return np.sin(x)"
   ]
  },
  {
   "cell_type": "code",
   "execution_count": 22,
   "metadata": {},
   "outputs": [],
   "source": [
    "xi, xf, Npoints = 0., 0.5*np.pi, 10\n",
    "X = np.linspace(xi, xf, Npoints+1)\n",
    "Y = Function(X)"
   ]
  },
  {
   "cell_type": "code",
   "execution_count": 23,
   "metadata": {},
   "outputs": [
    {
     "data": {
      "text/plain": [
       "<matplotlib.collections.PathCollection at 0x7fc90b81a0d0>"
      ]
     },
     "execution_count": 23,
     "metadata": {},
     "output_type": "execute_result"
    },
    {
     "data": {
      "image/png": "[encoded data removed]",
      "text/plain": [
       "<Figure size 432x288 with 1 Axes>"
      ]
     },
     "metadata": {
      "needs_background": "light"
     },
     "output_type": "display_data"
    }
   ],
   "source": [
    "plt.plot(X, Y, 'b', label='f(x)')\n",
    "plt.scatter(X, Y, c='r')"
   ]
  },
  {
   "cell_type": "code",
   "execution_count": 24,
   "metadata": {},
   "outputs": [],
   "source": [
    "#Definimos el metodo del trapecio --> Aproximar a una linea\n",
    "\n",
    "def TrapezeMethod(f, x, y):\n",
    "    h = (x[-1] - x[0])/(len(x) - 1)\n",
    "    \n",
    "    integral = 0\n",
    "    \n",
    "    integral += 0.5*(f(x[0]) + f(x[-1]))\n",
    "    \n",
    "    for i in x[1:-1]:\n",
    "        #Aqui no va el 0.5, pues quedaria (h/2)*(2*sum)=sum\n",
    "        integral += f(i)\n",
    "    \n",
    "    integral *= h\n",
    "    \n",
    "    return integral, h"
   ]
  },
  {
   "cell_type": "code",
   "execution_count": 25,
   "metadata": {},
   "outputs": [
    {
     "name": "stdout",
     "output_type": "stream",
     "text": [
      "0.9979429863543572\n",
      "0.15707963267948966\n"
     ]
    }
   ],
   "source": [
    "Integral, step = TrapezeMethod(Function, X, Y)\n",
    "print(Integral)\n",
    "print(step)"
   ]
  },
  {
   "cell_type": "code",
   "execution_count": 26,
   "metadata": {},
   "outputs": [],
   "source": [
    "#Para calcular el error, necesitamos la 2da derivada de f(x)\n",
    "\n",
    "def ddFunction(f,x,h):\n",
    "    d = 0\n",
    "    if(h!=0):\n",
    "        d = (f(x+h) - 2*f(x) + f(x-h))/h**2\n",
    "    return d"
   ]
  },
  {
   "cell_type": "code",
   "execution_count": 27,
   "metadata": {},
   "outputs": [],
   "source": [
    "D2Y = ddFunction(Function, X, 0.001)"
   ]
  },
  {
   "cell_type": "code",
   "execution_count": 28,
   "metadata": {},
   "outputs": [
    {
     "data": {
      "text/plain": [
       "[<matplotlib.lines.Line2D at 0x7fc90b86e7f0>]"
      ]
     },
     "execution_count": 28,
     "metadata": {},
     "output_type": "execute_result"
    },
    {
     "data": {
      "image/png": "[encoded data removed]",
      "text/plain": [
       "<Figure size 432x288 with 1 Axes>"
      ]
     },
     "metadata": {
      "needs_background": "light"
     },
     "output_type": "display_data"
    }
   ],
   "source": [
    "plt.plot(X, D2Y, 'b', label='f''(x)')"
   ]
  },
  {
   "cell_type": "code",
   "execution_count": 29,
   "metadata": {},
   "outputs": [],
   "source": [
    "#Ahora, calculando el error\n",
    "def ErrorTrapezeMethod(x, Yprimeprime):\n",
    "    Yprimeprime = np.array(Yprimeprime)\n",
    "    max_ = np.max(Yprimeprime) #Posiblemente es 0.\n",
    "    \n",
    "    error = -((x[-1]-x[0])**3 * max_)/(12.*len(x)**2)\n",
    "    return error"
   ]
  },
  {
   "cell_type": "code",
   "execution_count": 30,
   "metadata": {},
   "outputs": [
    {
     "name": "stdout",
     "output_type": "stream",
     "text": [
      "-0.0\n"
     ]
    }
   ],
   "source": [
    "Error = ErrorTrapezeMethod(X, D2Y)\n",
    "print(Error)"
   ]
  },
  {
   "cell_type": "markdown",
   "metadata": {},
   "source": [
    "Claramente, el error no es 0, porque la integral exacta me da 1.0 Lo que pasa es que el máximo de la segunda derivada es 0.\n",
    "\n",
    "Entonces, tomamos el error medio."
   ]
  },
  {
   "cell_type": "code",
   "execution_count": 31,
   "metadata": {},
   "outputs": [],
   "source": [
    "def ErrorTrapezeMethodCorregido(x, Yprimeprime):\n",
    "    Yprimeprime = np.array(Yprimeprime)\n",
    "    max_ = np.mean(Yprimeprime)\n",
    "    \n",
    "    error = -((x[-1]-x[0])**3 * max_)/(12.*len(x)**2)\n",
    "    return error"
   ]
  },
  {
   "cell_type": "code",
   "execution_count": 32,
   "metadata": {},
   "outputs": [
    {
     "name": "stdout",
     "output_type": "stream",
     "text": [
      "0.001662981862267617\n"
     ]
    }
   ],
   "source": [
    "Error = ErrorTrapezeMethodCorregido(X, D2Y)\n",
    "print(Error)"
   ]
  },
  {
   "cell_type": "markdown",
   "metadata": {},
   "source": [
    "$$ I \\approx 0.997 \\pm 0.002$$"
   ]
  },
  {
   "cell_type": "markdown",
   "metadata": {},
   "source": [
    "# Regla de Simpson"
   ]
  },
  {
   "cell_type": "code",
   "execution_count": 33,
   "metadata": {},
   "outputs": [],
   "source": [
    "def SimpsonMethod(f,x,y):\n",
    "    h = (x[-1]-x[0])/(len(x)-1)\n",
    "    integral = 0\n",
    "    integral += f(x[0]) + f(x[-1])\n",
    "    for i in range(len(x[1:-1])):\n",
    "        if(i%2 == 0):\n",
    "            #Si i es par, sumo los impares\n",
    "            integral += 4.*f(x[i+1])\n",
    "        else:\n",
    "            #Si i es impar, sumo los impares\n",
    "            integral += 2.*f(x[i+1])\n",
    "    \n",
    "    integral *= h/3\n",
    "    return integral, h"
   ]
  },
  {
   "cell_type": "code",
   "execution_count": 34,
   "metadata": {},
   "outputs": [
    {
     "name": "stdout",
     "output_type": "stream",
     "text": [
      "1.0000033922209004 0.15707963267948966\n"
     ]
    }
   ],
   "source": [
    "IntegralSimpson, stepSimpson = SimpsonMethod(Function, X, Y)\n",
    "print(IntegralSimpson, stepSimpson)"
   ]
  },
  {
   "cell_type": "code",
   "execution_count": 36,
   "metadata": {},
   "outputs": [
    {
     "name": "stdout",
     "output_type": "stream",
     "text": [
      "5.312841749744469e-06\n"
     ]
    }
   ],
   "source": [
    "error = (step **4)*(X[-1] - X[0])/180\n",
    "print(error)"
   ]
  }
 ],
 "metadata": {
  "kernelspec": {
   "display_name": "Python 3",
   "language": "python",
   "name": "python3"
  },
  "language_info": {
   "codemirror_mode": {
    "name": "ipython",
    "version": 3
   },
   "file_extension": ".py",
   "mimetype": "text/x-python",
   "name": "python",
   "nbconvert_exporter": "python",
   "pygments_lexer": "ipython3",
   "version": "3.8.3"
  }
 },
 "nbformat": 4,
 "nbformat_minor": 4
}
