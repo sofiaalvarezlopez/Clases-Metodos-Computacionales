{
 "cells": [
  {
   "cell_type": "code",
   "execution_count": 63,
   "metadata": {},
   "outputs": [],
   "source": [
    "import numpy as np\n",
    "import matplotlib.pyplot as plt\n",
    "from matplotlib import rc\n",
    "from IPython.display import display"
   ]
  },
  {
   "cell_type": "markdown",
   "metadata": {},
   "source": [
    "<h1>MÉTODO DE NEWTON-RAPHSON</h1>"
   ]
  },
  {
   "cell_type": "markdown",
   "metadata": {},
   "source": [
    "$x_{n+1} = x_{n} - \\frac{f(x_{n})}{f'(x_{n})}$"
   ]
  },
  {
   "cell_type": "code",
   "execution_count": 94,
   "metadata": {},
   "outputs": [],
   "source": [
    "def fun(x):\n",
    "    return x**x - 100\n",
    "\n",
    "def fun2(x):\n",
    "    return 2*x**4 - 2*x**3 + x**2 - 2*x"
   ]
  },
  {
   "cell_type": "code",
   "execution_count": 95,
   "metadata": {},
   "outputs": [],
   "source": [
    "def derf(f, x, h):\n",
    "    d = 0\n",
    "    if (h != 0):\n",
    "        d = (f(x+h) - f(x-h))/(2.*h)\n",
    "    return d"
   ]
  },
  {
   "cell_type": "code",
   "execution_count": 102,
   "metadata": {},
   "outputs": [],
   "source": [
    "xi, xf, Npoints = 0., 5., 50\n",
    "xi1, xf1, Npoints = -2, 2, 50\n",
    "h = (xf - xi)/float(Npoints)"
   ]
  },
  {
   "cell_type": "code",
   "execution_count": 106,
   "metadata": {},
   "outputs": [],
   "source": [
    "x = np.linspace(xi, xf, Npoints)\n",
    "x2 = np.linspace(xi1, xf1, Npoints)\n",
    "y = fun(x)\n",
    "y2 = fun2(x)"
   ]
  },
  {
   "cell_type": "code",
   "execution_count": 107,
   "metadata": {},
   "outputs": [
    {
     "data": {
      "image/png": "[encoded data removed]",
      "text/plain": [
       "<Figure size 432x288 with 1 Axes>"
      ]
     },
     "metadata": {
      "needs_background": "light"
     },
     "output_type": "display_data"
    }
   ],
   "source": [
    "plt.plot(x, y, 'b')\n",
    "plt.xlabel(r'$x$')\n",
    "plt.ylabel(r'$f(x)$')\n",
    "plt.show()"
   ]
  },
  {
   "cell_type": "code",
   "execution_count": 108,
   "metadata": {},
   "outputs": [
    {
     "data": {
      "image/png": "[encoded data removed]",
      "text/plain": [
       "<Figure size 432x288 with 1 Axes>"
      ]
     },
     "metadata": {
      "needs_background": "light"
     },
     "output_type": "display_data"
    }
   ],
   "source": [
    "plt.plot(x2, y2, 'b')\n",
    "plt.xlabel(r'$x$')\n",
    "plt.ylabel(r'$f(x)$')\n",
    "plt.show()"
   ]
  },
  {
   "cell_type": "code",
   "execution_count": 99,
   "metadata": {},
   "outputs": [],
   "source": [
    "#La solucion deberia estar entre 3 y 4\n",
    "#Definamos el metodo\n",
    "\n",
    "def NewtonMethod(f, df, xn, error, iteracion):\n",
    "    #El progama termina cuando se alcance esta precision\n",
    "    precision = 1.0e-3\n",
    "    h = 1.0e-4\n",
    "    \n",
    "    if (error > precision) and (iteracion < 1000):\n",
    "        try:\n",
    "            xn1 = xn - (f(xn)/df(f, xn, h))\n",
    "            e = abs(xn1 - xn)/abs(xn1)\n",
    "            NewtonMethod(f, df, xn1, error, iteracion+1)\n",
    "        except ZeroDivisionError:\n",
    "            print(\"Division by Zero\")\n",
    "    else:\n",
    "        print('xn=%f, f(xn)%f' %(xn, f(xn)))\n",
    "        return xn"
   ]
  },
  {
   "cell_type": "code",
   "execution_count": 100,
   "metadata": {},
   "outputs": [
    {
     "name": "stdout",
     "output_type": "stream",
     "text": [
      "xn=3.597285, f(xn)-0.000000\n"
     ]
    }
   ],
   "source": [
    "xn = NewtonMethod(fun, derf, 10, 1000, 0)"
   ]
  },
  {
   "cell_type": "code",
   "execution_count": 101,
   "metadata": {},
   "outputs": [
    {
     "name": "stdout",
     "output_type": "stream",
     "text": [
      "xn=1.244151, f(xn)0.000000\n"
     ]
    }
   ],
   "source": [
    "xn_2 = NewtonMethod(fun2, derf, 10, 1000, 0)"
   ]
  },
  {
   "cell_type": "code",
   "execution_count": 109,
   "metadata": {},
   "outputs": [],
   "source": [
    "#Si conozco una de las raíces, puedo factorizar el polinomio\n",
    "def factorized(f, x, xn):\n",
    "    f(x)/(x - xn)\n",
    "#Vuelvo a llamar Newton-Raphson y sale la otra raíz"
   ]
  },
  {
   "cell_type": "markdown",
   "metadata": {},
   "source": [
    "<h1>INTERPOLACION DE LAGRANGE </h1>"
   ]
  },
  {
   "cell_type": "code",
   "execution_count": 200,
   "metadata": {},
   "outputs": [],
   "source": [
    "def Lagrange(x, xi, j, n):\n",
    "    prod = 1.\n",
    "    \n",
    "    for k in range(n+1):\n",
    "        if(k!=j):\n",
    "            prod = prod*(x-xi[k])/(xi[j]-xi[k])\n",
    "    return prod"
   ]
  },
  {
   "cell_type": "code",
   "execution_count": 201,
   "metadata": {},
   "outputs": [],
   "source": [
    "def Poli(x, x1, fx1, n):\n",
    "    suma = 0\n",
    "    \n",
    "    for j in range (n+1):\n",
    "        suma = suma + fx1[j]*Lagrange(x, x1, j, n)\n",
    "    return suma"
   ]
  },
  {
   "cell_type": "code",
   "execution_count": 207,
   "metadata": {},
   "outputs": [
    {
     "name": "stdout",
     "output_type": "stream",
     "text": [
      "[3.     2.4875 2.     1.5625 1.2    0.9375 0.8    0.8125 1.     1.3875\n",
      " 2.     2.8625 4.     5.4375 7.2   ]\n"
     ]
    }
   ],
   "source": [
    "X1 =[-1, 2, 3, 4]\n",
    "Y1 = [2, 1, 2, 4]\n",
    "\n",
    "Data = np.arange(-2., 5.+0.5, 0.5)\n",
    "px1 = Poli(Data, X1, Y1, 3)\n",
    "print(px3)"
   ]
  },
  {
   "cell_type": "code",
   "execution_count": 212,
   "metadata": {},
   "outputs": [
    {
     "data": {
      "image/png": "[encoded data removed]",
      "text/plain": [
       "<Figure size 432x288 with 1 Axes>"
      ]
     },
     "metadata": {
      "needs_background": "light"
     },
     "output_type": "display_data"
    }
   ],
   "source": [
    "plt.plot(Data, px3, color = \"r\")\n",
    "plt.scatter(X1, Y1, label = 'f(x)')\n",
    "plt.show()"
   ]
  },
  {
   "cell_type": "code",
   "execution_count": 215,
   "metadata": {},
   "outputs": [],
   "source": [
    "#Definimos una función general\n",
    "def f(x):\n",
    "    return 1/(25*x**2+1)"
   ]
  },
  {
   "cell_type": "code",
   "execution_count": 216,
   "metadata": {},
   "outputs": [],
   "source": [
    "xi, xf = -1, 1\n",
    "\n",
    "n = 10\n",
    "\n",
    "h = (xf-xi)/n"
   ]
  },
  {
   "cell_type": "code",
   "execution_count": 217,
   "metadata": {},
   "outputs": [],
   "source": [
    "X = np.arange(xi,xf+h, h)\n",
    "Y = f(X)"
   ]
  },
  {
   "cell_type": "code",
   "execution_count": 218,
   "metadata": {},
   "outputs": [],
   "source": [
    "h2 = (xf - xi)/1000\n",
    "Data = np.arange(xi, xf+h2, h2)"
   ]
  },
  {
   "cell_type": "code",
   "execution_count": 219,
   "metadata": {},
   "outputs": [],
   "source": [
    "px = Poli(Data, X, Y, n)\n",
    "fx = f(Data)"
   ]
  },
  {
   "cell_type": "code",
   "execution_count": 231,
   "metadata": {},
   "outputs": [
    {
     "data": {
      "text/plain": [
       "[<matplotlib.lines.Line2D at 0x7fbfc58e4250>]"
      ]
     },
     "execution_count": 231,
     "metadata": {},
     "output_type": "execute_result"
    },
    {
     "data": {
      "image/png": "[encoded data removed]",
      "text/plain": [
       "<Figure size 432x288 with 1 Axes>"
      ]
     },
     "metadata": {
      "needs_background": "light"
     },
     "output_type": "display_data"
    }
   ],
   "source": [
    "plt.plot(Data, px, 'palegreen')\n",
    "plt.plot(Data, fx, 'hotpink')\n",
    "plt.plot(X, Y, 'o', c='skyblue')"
   ]
  },
  {
   "cell_type": "code",
   "execution_count": null,
   "metadata": {},
   "outputs": [],
   "source": []
  }
 ],
 "metadata": {
  "kernelspec": {
   "display_name": "Python 3",
   "language": "python",
   "name": "python3"
  },
  "language_info": {
   "codemirror_mode": {
    "name": "ipython",
    "version": 3
   },
   "file_extension": ".py",
   "mimetype": "text/x-python",
   "name": "python",
   "nbconvert_exporter": "python",
   "pygments_lexer": "ipython3",
   "version": "3.8.3"
  }
 },
 "nbformat": 4,
 "nbformat_minor": 4
}
