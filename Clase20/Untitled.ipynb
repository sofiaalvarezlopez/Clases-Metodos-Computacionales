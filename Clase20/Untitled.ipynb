{
 "cells": [
  {
   "cell_type": "code",
   "execution_count": null,
   "metadata": {},
   "outputs": [],
   "source": [
    "%pylab\n",
    "import numpy as np\n",
    "import cv2"
   ]
  },
  {
   "cell_type": "code",
   "execution_count": null,
   "metadata": {},
   "outputs": [],
   "source": [
    "image = cv2.imread('foto.jpeg')\n",
    "cv2.imshow('ImagenOriginal',image)"
   ]
  },
  {
   "cell_type": "code",
   "execution_count": null,
   "metadata": {},
   "outputs": [],
   "source": [
    "#Reescalar la imagen\n",
    "Nx, Ny = 512,512\n",
    "image = cv2.resize(image,(Nx,Ny))\n",
    "#Escala de grises\n",
    "image_gray = cv2.cvtColor(image, cv2.COLOR_RGB2GRAY)\n",
    "cv2.imshow('ImageGray', image_gray)\n",
    "\n",
    "image_gray_float = np.float64(image_gray)"
   ]
  },
  {
   "cell_type": "code",
   "execution_count": null,
   "metadata": {},
   "outputs": [],
   "source": [
    "print(image_gray)"
   ]
  },
  {
   "cell_type": "code",
   "execution_count": null,
   "metadata": {},
   "outputs": [],
   "source": [
    "# Obtener FFT\n",
    "FFT = np.fft.fft2(image_gray_float)\n",
    "FFT = np.fft.fftshift(FFT) #Centrar las frecuencias en cero\n",
    "\n",
    "FFTA = np.abs(FFT)\n",
    "\n",
    "FFTLog = 20*np.log10(FFTA)\n",
    "\n",
    "print(FFTLog)"
   ]
  },
  {
   "cell_type": "code",
   "execution_count": null,
   "metadata": {},
   "outputs": [],
   "source": [
    "cv2.imshow('EspectroFourier', np.uint8(255*FFTLog/np.max(FFTLog)))"
   ]
  },
  {
   "cell_type": "code",
   "execution_count": null,
   "metadata": {},
   "outputs": [],
   "source": [
    "#Diseñamos nuestro filtro\n",
    "\n",
    "F1 = np.arange(-0.5*Nx+1, 0.5*Nx+1, 1)\n",
    "F2 = np.arange(-0.5*Ny+1, 0.5*Ny+1, 1)\n",
    "[X,Y] = np.meshgrid(F1,F2)\n",
    "\n",
    "D = np.sqrt(X**2 + Y**2)\n",
    "D /= np.max(D)\n",
    "print(D)"
   ]
  },
  {
   "cell_type": "code",
   "execution_count": null,
   "metadata": {},
   "outputs": [],
   "source": [
    "# Definamos un radio de corte\n",
    "D0 = 0.2\n",
    "Huv = np.zeros((Nx,Ny))\n",
    "# Filtro de bajas frecuencias\n",
    "\n",
    "for i in range(Nx):\n",
    "    for j in range(Ny):\n",
    "        if(D[i,j] > D0):\n",
    "            Huv[i,j] = 1"
   ]
  },
  {
   "cell_type": "code",
   "execution_count": null,
   "metadata": {},
   "outputs": [],
   "source": [
    "cv2.imshow('FiltroDeBajas', np.uint8(255*Huv))"
   ]
  },
  {
   "cell_type": "code",
   "execution_count": null,
   "metadata": {},
   "outputs": [],
   "source": [
    "#Usar el teorema de convolucion\n",
    "Guv = Huv*FFT\n",
    "# Tomar la magnitud\n",
    "GuvA= np.abs(Guv)\n",
    "#Escalamos\n",
    "GuvA = np.uint8(255*GuvA/np.max(GuvA))"
   ]
  },
  {
   "cell_type": "code",
   "execution_count": null,
   "metadata": {},
   "outputs": [],
   "source": [
    "cv2.imshow('EspectroConFiltro', np.uint8(255*GuvA))"
   ]
  },
  {
   "cell_type": "code",
   "execution_count": null,
   "metadata": {},
   "outputs": [],
   "source": [
    "# Ahora tomemos la transformada inversa\n",
    "\n",
    "Gxy = np.fft.ifft2(Guv)\n",
    "Gxy = np.abs(Gxy)"
   ]
  },
  {
   "cell_type": "code",
   "execution_count": null,
   "metadata": {},
   "outputs": [],
   "source": [
    "cv2.imshow('ImagenConFiltroBajas', np.uint8(Gxy))"
   ]
  },
  {
   "cell_type": "markdown",
   "metadata": {},
   "source": [
    "# Bordes\n",
    "Lugares de la imagen donde hay un cambio brusco de la intensidad."
   ]
  },
  {
   "cell_type": "code",
   "execution_count": null,
   "metadata": {},
   "outputs": [],
   "source": [
    "kernel1 = np.array([-0.5,0.5])\n",
    "kernel2 = np.array([[-0.5], [0], [0.5]])"
   ]
  },
  {
   "cell_type": "code",
   "execution_count": null,
   "metadata": {},
   "outputs": [],
   "source": [
    "X = cv2.filter2D(image, -1, kernel1)\n",
    "Y = cv2.filter2D(image, -1, kernel2)"
   ]
  },
  {
   "cell_type": "code",
   "execution_count": null,
   "metadata": {},
   "outputs": [],
   "source": [
    "Mxy = np.sqrt(X**2 + Y**2)\n",
    "#Normalizacion a 1\n",
    "Mxy /= np.max(Mxy)"
   ]
  },
  {
   "cell_type": "code",
   "execution_count": null,
   "metadata": {},
   "outputs": [],
   "source": [
    "#Aplicar el filtro y retorna blanco si se cumple la condicion\n",
    "mask = np.where(Mxy >0.7,255,0)\n",
    "mask = np.uint8(mask)\n",
    "cv2.imshow('Bordes', mask)"
   ]
  },
  {
   "cell_type": "code",
   "execution_count": null,
   "metadata": {},
   "outputs": [],
   "source": [
    "video = cv2.VideoCapture(0)\n",
    "\n",
    "while True:\n",
    "    \n",
    "    # Lectura de imagenes\n",
    "    ret, frame1 = video.read()\n",
    "    #frame = cv2.cvtColor(frame1, cv2.COLOR_BAYER_BG2RGB)\n",
    "    \n",
    "    \n",
    "    # conversion a flotante\n",
    "    frame_float = frame1.astype(float)\n",
    "    \n",
    "    kernel1 = np.array([-0.5,0,0.5])\n",
    "    kernel2 = np.array([[-0.5],[0],[0.5]])\n",
    "    \n",
    "    X = cv2.filter2D(frame_float, -1, kernel1)\n",
    "    Y = cv2.filter2D(frame_float, -1, kernel2)\n",
    "    \n",
    "    Mxy = np.sqrt(X**2+Y**2)\n",
    "\n",
    "    # Normalización a 1\n",
    "\n",
    "    Mxy = Mxy/np.max(Mxy)\n",
    "    \n",
    "    mask = np.where(Mxy > 0.1, 255, 0)\n",
    "    mask = np.uint8(mask)\n",
    "    \n",
    "    cv2.imshow('Bordes', mask)\n",
    "    \n",
    "    k = cv2.waitKey(1)&0xFF\n",
    "    if(k == ord('p')):\n",
    "        print('Exit')\n",
    "        break\n",
    "        \n",
    "video.release()\n",
    "cv2.destroyAllWindows()"
   ]
  }
 ],
 "metadata": {
  "kernelspec": {
   "display_name": "Python 3",
   "language": "python",
   "name": "python3"
  },
  "language_info": {
   "codemirror_mode": {
    "name": "ipython",
    "version": 3
   },
   "file_extension": ".py",
   "mimetype": "text/x-python",
   "name": "python",
   "nbconvert_exporter": "python",
   "pygments_lexer": "ipython3",
   "version": "3.8.3"
  }
 },
 "nbformat": 4,
 "nbformat_minor": 4
}
