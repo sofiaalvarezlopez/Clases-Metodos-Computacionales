{
 "cells": [
  {
   "cell_type": "code",
   "execution_count": 1,
   "metadata": {},
   "outputs": [],
   "source": [
    "import numpy as np\n",
    "import matplotlib.pyplot as plt\n",
    "from mpl_toolkits.mplot3d import Axes3D\n",
    "from matplotlib import cm"
   ]
  },
  {
   "cell_type": "markdown",
   "metadata": {},
   "source": [
    "# Arrays with numpy"
   ]
  },
  {
   "cell_type": "code",
   "execution_count": 2,
   "metadata": {},
   "outputs": [
    {
     "data": {
      "text/plain": [
       "[1, 3, 6, 1, 3, 6]"
      ]
     },
     "execution_count": 2,
     "metadata": {},
     "output_type": "execute_result"
    }
   ],
   "source": [
    "x = [1, 3, 6]\n",
    "x + x"
   ]
  },
  {
   "cell_type": "code",
   "execution_count": 4,
   "metadata": {},
   "outputs": [
    {
     "data": {
      "text/plain": [
       "array([ 2,  6, 12])"
      ]
     },
     "execution_count": 4,
     "metadata": {},
     "output_type": "execute_result"
    }
   ],
   "source": [
    "y = np.array([1, 3, 6])\n",
    "y + y "
   ]
  },
  {
   "cell_type": "code",
   "execution_count": 7,
   "metadata": {},
   "outputs": [
    {
     "data": {
      "text/plain": [
       "array([ 8.41470985e-01,  3.42921620e+01, -2.17273491e+03])"
      ]
     },
     "execution_count": 7,
     "metadata": {},
     "output_type": "execute_result"
    }
   ],
   "source": [
    "np.sin(y)*y**5"
   ]
  },
  {
   "cell_type": "code",
   "execution_count": 9,
   "metadata": {},
   "outputs": [
    {
     "data": {
      "text/plain": [
       "array([[ 1,  4,  9],\n",
       "       [16, 25, 36],\n",
       "       [49, 64, 81]])"
      ]
     },
     "execution_count": 9,
     "metadata": {},
     "output_type": "execute_result"
    }
   ],
   "source": [
    "a = np.array([[1,2,3],[4,5,6],[7,8,9]])\n",
    "a*a"
   ]
  },
  {
   "cell_type": "code",
   "execution_count": 10,
   "metadata": {},
   "outputs": [
    {
     "data": {
      "text/plain": [
       "array([[ 30,  36,  42],\n",
       "       [ 66,  81,  96],\n",
       "       [102, 126, 150]])"
      ]
     },
     "execution_count": 10,
     "metadata": {},
     "output_type": "execute_result"
    }
   ],
   "source": [
    "np.dot(a,a)"
   ]
  },
  {
   "cell_type": "code",
   "execution_count": 11,
   "metadata": {},
   "outputs": [
    {
     "data": {
      "text/plain": [
       "array([[ 3,  8, 15],\n",
       "       [12, 20, 30],\n",
       "       [21, 32, 45]])"
      ]
     },
     "execution_count": 11,
     "metadata": {},
     "output_type": "execute_result"
    }
   ],
   "source": [
    "x = np.array([3,4,5])\n",
    "a*x"
   ]
  },
  {
   "cell_type": "code",
   "execution_count": 12,
   "metadata": {},
   "outputs": [
    {
     "data": {
      "text/plain": [
       "array([54, 66, 78])"
      ]
     },
     "execution_count": 12,
     "metadata": {},
     "output_type": "execute_result"
    }
   ],
   "source": [
    "np.dot(x,a)"
   ]
  },
  {
   "cell_type": "code",
   "execution_count": 13,
   "metadata": {},
   "outputs": [
    {
     "name": "stdout",
     "output_type": "stream",
     "text": [
      "[[1 2 3]\n",
      " [4 5 6]\n",
      " [7 8 9]]\n",
      "[[1 4 7]\n",
      " [2 5 8]\n",
      " [3 6 9]]\n"
     ]
    }
   ],
   "source": [
    "#Transpuesta\n",
    "print(a)\n",
    "print(a.T)"
   ]
  },
  {
   "cell_type": "code",
   "execution_count": 14,
   "metadata": {},
   "outputs": [
    {
     "name": "stdout",
     "output_type": "stream",
     "text": [
      "[3 4 5]\n",
      "[3 4 5]\n"
     ]
    }
   ],
   "source": [
    "print(x)\n",
    "print(x.T)"
   ]
  },
  {
   "cell_type": "code",
   "execution_count": 15,
   "metadata": {},
   "outputs": [
    {
     "data": {
      "text/plain": [
       "matrix([[1, 2, 3],\n",
       "        [4, 5, 6],\n",
       "        [7, 8, 9]])"
      ]
     },
     "execution_count": 15,
     "metadata": {},
     "output_type": "execute_result"
    }
   ],
   "source": [
    "np.matrix(\"1,2,3;4,5,6;7,8,9\")"
   ]
  },
  {
   "cell_type": "code",
   "execution_count": 17,
   "metadata": {},
   "outputs": [
    {
     "data": {
      "text/plain": [
       "4"
      ]
     },
     "execution_count": 17,
     "metadata": {},
     "output_type": "execute_result"
    }
   ],
   "source": [
    "a = np.matrix(\"3,4,5\")\n",
    "a[0,1]"
   ]
  },
  {
   "cell_type": "code",
   "execution_count": 19,
   "metadata": {},
   "outputs": [
    {
     "data": {
      "text/plain": [
       "2"
      ]
     },
     "execution_count": 19,
     "metadata": {},
     "output_type": "execute_result"
    }
   ],
   "source": [
    "#np.rank(np.array(a)) --> Deprecated\n",
    "np.ndim(np.array(a))"
   ]
  },
  {
   "cell_type": "code",
   "execution_count": 25,
   "metadata": {},
   "outputs": [],
   "source": [
    "#Obteenr auto-valores y auto-vectores\n",
    "a = np.array([[1,2,3],[4,5,6],[7,8,9]])\n",
    "evals, evecs = np.linalg.eig(a)"
   ]
  },
  {
   "cell_type": "code",
   "execution_count": 26,
   "metadata": {},
   "outputs": [
    {
     "name": "stdout",
     "output_type": "stream",
     "text": [
      "[ 1.61168440e+01 -1.11684397e+00 -9.75918483e-16]\n"
     ]
    }
   ],
   "source": [
    "print(evals)"
   ]
  },
  {
   "cell_type": "code",
   "execution_count": 27,
   "metadata": {},
   "outputs": [
    {
     "name": "stdout",
     "output_type": "stream",
     "text": [
      "[[-0.23197069 -0.78583024  0.40824829]\n",
      " [-0.52532209 -0.08675134 -0.81649658]\n",
      " [-0.8186735   0.61232756  0.40824829]]\n"
     ]
    }
   ],
   "source": [
    "print(evecs)"
   ]
  },
  {
   "cell_type": "markdown",
   "metadata": {},
   "source": [
    "# Matriz para invertir "
   ]
  },
  {
   "cell_type": "code",
   "execution_count": 29,
   "metadata": {},
   "outputs": [
    {
     "name": "stdout",
     "output_type": "stream",
     "text": [
      "[[ 3 -1 -1]\n",
      " [-1  3  1]\n",
      " [ 2  1  4]]\n"
     ]
    }
   ],
   "source": [
    "M = np.array([[3, -1, -1], [-1,3,1], [2, 1,4]])\n",
    "print(M)"
   ]
  },
  {
   "cell_type": "code",
   "execution_count": 30,
   "metadata": {},
   "outputs": [],
   "source": [
    "b = np.array([1,3,7])"
   ]
  },
  {
   "cell_type": "markdown",
   "metadata": {},
   "source": [
    "Método de jacobi:\n",
    "Vamos a descomponer A en la suma de su diagonal (D) y la suma de la matriz triangular inferior y la superior"
   ]
  },
  {
   "cell_type": "markdown",
   "metadata": {},
   "source": [
    "$$x_i^{k+1} = \\frac{1}{a_{ii}} (b_i - \\sum_{i \\neq j} a_{ij}x_j^k), i = 1, 2, 3$$"
   ]
  },
  {
   "cell_type": "code",
   "execution_count": 31,
   "metadata": {},
   "outputs": [
    {
     "name": "stdout",
     "output_type": "stream",
     "text": [
      "[ 3 -1 -1] [ 3 -1  2]\n"
     ]
    }
   ],
   "source": [
    "#M.shape[0] numero de fila\n",
    "#M.shape[1] numero de columna\n",
    "\n",
    "n = M.shape[1]\n",
    "x = np.zeros(n)\n",
    "\n",
    "print(M[0,:], M[:, 0])"
   ]
  },
  {
   "cell_type": "code",
   "execution_count": 36,
   "metadata": {},
   "outputs": [],
   "source": [
    "def GetJacobiMethod(Matrix, bvector, itmax, error):\n",
    "    n = Matrix.shape[1]\n",
    "    x = np.zeros(n)\n",
    "    sumk = np.zeros(n)\n",
    "    \n",
    "    it = 0\n",
    "    \n",
    "    residuo = np.linalg.norm(bvector - np.dot(Matrix, x))\n",
    "    \n",
    "    while residuo > error and it < itmax:\n",
    "        \n",
    "        it +=1\n",
    "        for i in range(len(Matrix[0,:])):\n",
    "            suma = 0\n",
    "            for j in range(len(Matrix[:,0])):\n",
    "                if (i != j):\n",
    "                    suma += Matrix[i][j]*x[j]\n",
    "            sumk[i] = suma\n",
    "        \n",
    "        for i in range(len(Matrix[0,:])):\n",
    "            if(Matrix[i,i] != 0):\n",
    "                x[i] = (bvector[i] - sumk[i])/Matrix[i,i]\n",
    "            else:\n",
    "                print('No invertible con Jacobi')\n",
    "        print(x)\n",
    "        residuo = np.linalg.norm(bvector - np.dot(Matrix, x))\n",
    "    return x, it, error"
   ]
  },
  {
   "cell_type": "code",
   "execution_count": 41,
   "metadata": {},
   "outputs": [
    {
     "name": "stdout",
     "output_type": "stream",
     "text": [
      "[0.33333333 1.         1.75      ]\n",
      "[1.25       0.52777778 1.33333333]\n",
      "[0.9537037  0.97222222 0.99305556]\n",
      "[0.98842593 0.98688272 1.03009259]\n",
      "[1.00565844 0.98611111 1.00906636]\n",
      "[0.99839249 0.99886403 1.000643  ]\n",
      "[0.99983568 0.99924983 1.00108775]\n",
      "[1.00011253 0.99958264 1.0002697 ]\n",
      "[0.99995078 0.99994761 1.00004808]\n",
      "[0.99999856 0.99996757 1.00003771]\n",
      "[1.00000176 0.99998695 1.00000883]\n",
      "[0.99999859 0.99999764 1.00000238]\n",
      "[1.00000001 0.99999874 1.00000129]\n",
      "[1.00000001 0.99999957 1.00000031]\n",
      "[0.99999996 0.9999999  1.0000001 ]\n",
      "[1.         0.99999995 1.00000004]\n",
      "[1.         0.99999999 1.00000001]\n",
      "[1. 1. 1.]\n",
      "[1. 1. 1.]\n",
      "[1. 1. 1.]\n",
      "[1. 1. 1.]\n",
      "[1. 1. 1.]\n",
      "[1. 1. 1.]\n"
     ]
    }
   ],
   "source": [
    "Xsol, it, error = GetJacobiMethod(M, b, 30, 1e-10)"
   ]
  },
  {
   "cell_type": "code",
   "execution_count": 42,
   "metadata": {},
   "outputs": [
    {
     "name": "stdout",
     "output_type": "stream",
     "text": [
      "23\n"
     ]
    }
   ],
   "source": [
    "print(it)"
   ]
  },
  {
   "cell_type": "code",
   "execution_count": 43,
   "metadata": {},
   "outputs": [
    {
     "name": "stdout",
     "output_type": "stream",
     "text": [
      "1e-10\n"
     ]
    }
   ],
   "source": [
    "print(error)"
   ]
  },
  {
   "cell_type": "code",
   "execution_count": 44,
   "metadata": {},
   "outputs": [
    {
     "name": "stdout",
     "output_type": "stream",
     "text": [
      "[1. 1. 1.]\n"
     ]
    }
   ],
   "source": [
    "print(Xsol)"
   ]
  },
  {
   "cell_type": "markdown",
   "metadata": {},
   "source": [
    "# Get T matrix"
   ]
  },
  {
   "cell_type": "markdown",
   "metadata": {},
   "source": [
    "$$T = D^{-1}R$$"
   ]
  },
  {
   "cell_type": "code",
   "execution_count": 45,
   "metadata": {},
   "outputs": [],
   "source": [
    "def getTMatrix(Matrix):\n",
    "    D = np.zeros((Matrix.shape[0], Matrix.shape[1]))\n",
    "    R = np.zeros((Matrix.shape[0], Matrix.shape[1]))\n",
    "    T = np.zeros((Matrix.shape[0], Matrix.shape[1]))\n",
    "    for i in range(len(Matrix[0,:])):\n",
    "        for j in range(len(Matrix[:,0])):\n",
    "            if i == j:\n",
    "                D[i,j] = 1/Matrix[i,j]\n",
    "            else:\n",
    "                R[i, j] = Matrix[i,j]\n",
    "    T = np.dot(D,R)\n",
    "    return T"
   ]
  },
  {
   "cell_type": "code",
   "execution_count": 47,
   "metadata": {},
   "outputs": [
    {
     "name": "stdout",
     "output_type": "stream",
     "text": [
      "[[ 0.         -0.33333333 -0.33333333]\n",
      " [-0.33333333  0.          0.33333333]\n",
      " [ 0.5         0.25        0.        ]]\n"
     ]
    }
   ],
   "source": [
    "T = getTMatrix(M)\n",
    "print(T)"
   ]
  },
  {
   "cell_type": "markdown",
   "metadata": {},
   "source": [
    "# Teorema"
   ]
  },
  {
   "cell_type": "markdown",
   "metadata": {},
   "source": [
    "Si A es una matrix estrictamente diagonal dominante, entonces la iteración del método de Jacobi converge para cualquier valor inicial."
   ]
  },
  {
   "cell_type": "markdown",
   "metadata": {},
   "source": [
    "# Teorema "
   ]
  },
  {
   "cell_type": "markdown",
   "metadata": {},
   "source": [
    "La sucesión $x^{k+1} = Tx^k + c$, para $k \\geq 0$, converge la sucesión única $x = Tx + c$ sí y sólo sí $\\rho(T) < 1$.\n",
    "Definición de radio espectral:\n",
    "Si $\\lambda_1,..., \\lambda_n$ son los valores propios de una matriz A, entonces su radio espectral $\\rho(A)$ se define como \n",
    "$$\\rho(A) := \\max(|\\lambda_i|)$$"
   ]
  },
  {
   "cell_type": "code",
   "execution_count": 48,
   "metadata": {},
   "outputs": [
    {
     "name": "stdout",
     "output_type": "stream",
     "text": [
      "[-0.33333333+0.j          0.16666667+0.23570226j  0.16666667-0.23570226j]\n"
     ]
    }
   ],
   "source": [
    "#Calcular los eigen vectors\n",
    "valores, vectores = np.linalg.eig(T)\n",
    "print(valores)"
   ]
  },
  {
   "cell_type": "code",
   "execution_count": 49,
   "metadata": {},
   "outputs": [
    {
     "name": "stdout",
     "output_type": "stream",
     "text": [
      "0.33333333333333315\n"
     ]
    }
   ],
   "source": [
    "print(np.amax(abs(valores)))"
   ]
  },
  {
   "cell_type": "markdown",
   "metadata": {},
   "source": [
    "# Método de Gauss-Seidel"
   ]
  },
  {
   "cell_type": "code",
   "execution_count": 50,
   "metadata": {},
   "outputs": [],
   "source": [
    "M = np.array([[3,-1,-1], [-1,3,1], [2,1,4]])\n",
    "b = np.array([1,3,7])\n",
    "n = M.shape[1]\n",
    "x = np.zeros(n)"
   ]
  },
  {
   "cell_type": "code",
   "execution_count": 58,
   "metadata": {},
   "outputs": [],
   "source": [
    "def getGaussSeidelMethod(Matrix, bvector, itmax, error):\n",
    "    n = Matrix.shape[1]\n",
    "    x = np.zeros(n)\n",
    "    r = np.linalg.norm(bvector - np.dot(Matrix,x))\n",
    "    it = 0\n",
    "    while r>error and it < itmax:\n",
    "        it+=1\n",
    "        for i in range(len(Matrix[0,:])):\n",
    "            suma = 0\n",
    "            for j in range(len(Matrix[:,0])):\n",
    "                if i != j:\n",
    "                    suma += Matrix[i,j]*x[j]\n",
    "            x[i] = (bvector[i] - suma)/Matrix[i,i]\n",
    "        print(x)\n",
    "        r = np.linalg.norm(bvector - np.dot(Matrix,x))\n",
    "    return x, it, r"
   ]
  },
  {
   "cell_type": "code",
   "execution_count": 59,
   "metadata": {},
   "outputs": [
    {
     "name": "stdout",
     "output_type": "stream",
     "text": [
      "[0.33333333 1.11111111 1.30555556]\n",
      "[1.13888889 0.94444444 0.94444444]\n",
      "[0.96296296 1.00617284 1.01697531]\n",
      "[1.00771605 0.99691358 0.99691358]\n",
      "[0.99794239 1.00034294 1.00094307]\n",
      "[1.00042867 0.99982853 0.99982853]\n",
      "[0.99988569 1.00001905 1.00005239]\n",
      "[1.00002381 0.99999047 0.99999047]\n",
      "[0.99999365 1.00000106 1.00000291]\n",
      "[1.00000132 0.99999947 0.99999947]\n",
      "[0.99999965 1.00000006 1.00000016]\n",
      "[1.00000007 0.99999997 0.99999997]\n",
      "[0.99999998 1.         1.00000001]\n",
      "[1. 1. 1.]\n",
      "[1. 1. 1.]\n",
      "[1. 1. 1.]\n",
      "[1. 1. 1.]\n",
      "[1. 1. 1.]\n"
     ]
    }
   ],
   "source": [
    "Xsol, it, error = getGaussSeidelMethod(M, b, 30, 1e-10)"
   ]
  },
  {
   "cell_type": "code",
   "execution_count": 60,
   "metadata": {},
   "outputs": [
    {
     "name": "stdout",
     "output_type": "stream",
     "text": [
      "[1. 1. 1.]\n"
     ]
    }
   ],
   "source": [
    "print(Xsol)"
   ]
  },
  {
   "cell_type": "code",
   "execution_count": 61,
   "metadata": {},
   "outputs": [
    {
     "name": "stdout",
     "output_type": "stream",
     "text": [
      "18\n"
     ]
    }
   ],
   "source": [
    "print(it)"
   ]
  },
  {
   "cell_type": "code",
   "execution_count": 63,
   "metadata": {},
   "outputs": [
    {
     "name": "stdout",
     "output_type": "stream",
     "text": [
      "5.8030712832710874e-11\n"
     ]
    }
   ],
   "source": [
    "print(error)"
   ]
  },
  {
   "cell_type": "code",
   "execution_count": null,
   "metadata": {},
   "outputs": [],
   "source": []
  }
 ],
 "metadata": {
  "kernelspec": {
   "display_name": "Python 3",
   "language": "python",
   "name": "python3"
  },
  "language_info": {
   "codemirror_mode": {
    "name": "ipython",
    "version": 3
   },
   "file_extension": ".py",
   "mimetype": "text/x-python",
   "name": "python",
   "nbconvert_exporter": "python",
   "pygments_lexer": "ipython3",
   "version": "3.8.3"
  }
 },
 "nbformat": 4,
 "nbformat_minor": 4
}
