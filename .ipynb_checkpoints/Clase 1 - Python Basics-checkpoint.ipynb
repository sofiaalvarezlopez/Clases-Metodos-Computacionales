{
 "cells": [
  {
   "cell_type": "code",
   "execution_count": 1,
   "metadata": {},
   "outputs": [],
   "source": [
    "import numpy as np\n",
    "import matplotlib.pyplot as plt\n",
    "from matplotlib import rc"
   ]
  },
  {
   "cell_type": "code",
   "execution_count": 2,
   "metadata": {},
   "outputs": [
    {
     "name": "stdout",
     "output_type": "stream",
     "text": [
      "[3.15, 2.35, 6.89, 4.52, 3.32]\n"
     ]
    }
   ],
   "source": [
    "#Listas\n",
    "myList = [3.15, 2.35, 6.89, 4.52, 3.32]\n",
    "print(myList)"
   ]
  },
  {
   "cell_type": "code",
   "execution_count": 5,
   "metadata": {},
   "outputs": [
    {
     "name": "stdout",
     "output_type": "stream",
     "text": [
      "2.35\n",
      "3.32\n",
      "6.89\n"
     ]
    }
   ],
   "source": [
    "#Imprime el primer elemento\n",
    "print(myList[1])\n",
    "#Imprime el ultimo elemento\n",
    "print(myList[-1])\n",
    "#Imprime el tercer elemento, de atrás para adelante\n",
    "print(myList[-3])"
   ]
  },
  {
   "cell_type": "code",
   "execution_count": 9,
   "metadata": {},
   "outputs": [
    {
     "name": "stdout",
     "output_type": "stream",
     "text": [
      "[3.15, 2.35]\n",
      "[6.89, 4.52, 3.32]\n"
     ]
    }
   ],
   "source": [
    "#Puedo tomar subconjuntos\n",
    "#Esto toma desde el elemento cero hasta el elemento 1, sin incluir el 2\n",
    "print(myList[0:2])\n",
    "#Esta notación es equivalente\n",
    "assert(myList[0:2] == myList[:2])\n",
    "#Imprime del elemento 2 para adelante\n",
    "print(myList[2:])"
   ]
  },
  {
   "cell_type": "code",
   "execution_count": 12,
   "metadata": {},
   "outputs": [
    {
     "name": "stdout",
     "output_type": "stream",
     "text": [
      "[3.15, 2.35, 5.963, 5.963, 6.89, 4.52, 3.32]\n",
      "[3.15, 2.35, 5.963, 5.963, 6.89, 4.52, 3.32, 6.98]\n"
     ]
    }
   ],
   "source": [
    "#Para insertar un elemento en un indice determinado\n",
    "myList.insert(2, 5.963)\n",
    "print(myList)\n",
    "#Para insertar un elemento en la ultima posición\n",
    "myList.append(6.98)\n",
    "print(myList)"
   ]
  },
  {
   "cell_type": "code",
   "execution_count": 20,
   "metadata": {},
   "outputs": [
    {
     "data": {
      "text/plain": [
       "1"
      ]
     },
     "execution_count": 20,
     "metadata": {},
     "output_type": "execute_result"
    }
   ],
   "source": [
    "#Para conocer el índice en el que está un elemento\n",
    "myList.index(2.35)"
   ]
  },
  {
   "cell_type": "code",
   "execution_count": 21,
   "metadata": {},
   "outputs": [
    {
     "name": "stdout",
     "output_type": "stream",
     "text": [
      "[[  1.    1.    0.9]\n",
      " [  2.    2.2   7.8]\n",
      " [  3.    2.5  27.5]\n",
      " [  4.    4.4  67. ]\n",
      " [  5.    6.  130. ]]\n"
     ]
    }
   ],
   "source": [
    "#Para leer datos\n",
    "file_1 = 'data/lectura1.dat'\n",
    "data = np.loadtxt(file_1, comments='#')\n",
    "print(data)"
   ]
  },
  {
   "cell_type": "code",
   "execution_count": 22,
   "metadata": {},
   "outputs": [],
   "source": [
    "tiempo = data[:, 0]\n",
    "x = data[:, 1]\n",
    "y = data[:, 2]"
   ]
  },
  {
   "cell_type": "code",
   "execution_count": 24,
   "metadata": {},
   "outputs": [
    {
     "data": {
      "image/png": "[encoded data removed]",
      "text/plain": [
       "<Figure size 432x288 with 1 Axes>"
      ]
     },
     "metadata": {
      "needs_background": "light"
     },
     "output_type": "display_data"
    }
   ],
   "source": [
    "#Plotting\n",
    "plt.plot(tiempo, y, 'ro', label='Cinematica')\n",
    "\n",
    "plt.title(r'Posición vs Tiempo')\n",
    "plt.xlabel(r'$tiempo[s]$')\n",
    "plt.ylabel(r'$y[m]$')\n",
    "plt.legend()\n",
    "\n",
    "plt.savefig('plots/YvsT.pdf')\n",
    "plt.show()"
   ]
  },
  {
   "cell_type": "code",
   "execution_count": 29,
   "metadata": {},
   "outputs": [
    {
     "data": {
      "image/png": "[encoded data removed]",
      "text/plain": [
       "<Figure size 432x288 with 1 Axes>"
      ]
     },
     "metadata": {
      "needs_background": "light"
     },
     "output_type": "display_data"
    }
   ],
   "source": [
    "#Ahora, voy a pintar varios plots\n",
    "fig, ax = plt.subplots()\n",
    "p1 = ax.plot(tiempo, x, 'ro')\n",
    "p2 = ax.plot(tiempo, y, 'bo')\n",
    "ax.set(xlabel= r'$tiempo[s]$', ylabel=r'$Posicion[m]$', title='Posición vs Tiempo')\n",
    "#ax.legend()\n",
    "#ax.grid()\n",
    "plt.savefig('plots/XYvst.pdf')\n",
    "plt.show()"
   ]
  },
  {
   "cell_type": "code",
   "execution_count": 82,
   "metadata": {},
   "outputs": [],
   "source": [
    "#Hagamos un decaimiento radioactivo\n",
    "def function(t, N0_, alpha_):\n",
    "    return N0_*np.exp(-t*alpha_)"
   ]
  },
  {
   "cell_type": "code",
   "execution_count": 83,
   "metadata": {},
   "outputs": [],
   "source": [
    "N0 = 1000.\n",
    "alpha= 0.8\n",
    "\n",
    "#Para definir la variable independiente, uso un linspace o blockspace\n",
    "#En todos estos tiempos, evalúo mi función\n",
    "t = np.linspace(0.1, 2.0, 100)"
   ]
  },
  {
   "cell_type": "code",
   "execution_count": 84,
   "metadata": {},
   "outputs": [],
   "source": [
    "#Para evaluar la funcion a lo python, \n",
    "y = function(t, N0, alpha)\n",
    "#Se puede llenar como en c++ pero se demora mucho"
   ]
  },
  {
   "cell_type": "code",
   "execution_count": 54,
   "metadata": {},
   "outputs": [
    {
     "data": {
      "image/png": "[encoded data removed]",
      "text/plain": [
       "<Figure size 432x288 with 1 Axes>"
      ]
     },
     "metadata": {
      "needs_background": "light"
     },
     "output_type": "display_data"
    }
   ],
   "source": [
    "#Ahora, voy a pintar varios plots\n",
    "fig, ax = plt.subplots()\n",
    "p1 = ax.plot(t, y, 'bo')\n",
    "#Tiempo de vida medio = tiempo en que queda la mitad de N0 a un tiempo log(2)/alpha\n",
    "p2 = ax.plot(np.log(2)/alpha, 0.5*N0, 'ro')\n",
    "ax.set(xlabel= r'$tiempo[s]$', ylabel=r'$N(t)$', title='$\\mathrm{Nuclear \\ Decay:} \\ N_{0}=%.0f, \\ \\lambda=%.2f $' %(N0, alpha) )\n",
    "#ax.legend()\n",
    "#ax.grid()\n",
    "plt.savefig('plots/decay.pdf')\n",
    "plt.show()"
   ]
  },
  {
   "cell_type": "code",
   "execution_count": 85,
   "metadata": {},
   "outputs": [],
   "source": [
    "#Ahora, haremos una animación\n",
    "filenames = []\n",
    "mean_ = []"
   ]
  },
  {
   "cell_type": "code",
   "execution_count": 86,
   "metadata": {},
   "outputs": [],
   "source": [
    "def CreateFig(alpha_, it):\n",
    "    t = np.linspace(0.01, 10., 50)\n",
    "    y = function(t, N0, alpha_)\n",
    "    \n",
    "    mean = np.log(2)/alpha_\n",
    "    mean_.append(mean)\n",
    "    \n",
    "    fig, ax = plt.subplots()\n",
    "    p1 = ax.plot(t, y, 'bo')\n",
    "    p2 = ax.plot(mean, 0.5*N0, 'ro')\n",
    "    \n",
    "    #ax.grid()\n",
    "    #Para que quede fijo el eje y. Lo mismo para x\n",
    "    ax.set_ylim(0, 1000.)\n",
    "    \n",
    "    filename = 'plots/%02d'%it + '.png'\n",
    "    filenames.append(filename)\n",
    "    plt.savefig(filename)\n",
    "    plt.close()"
   ]
  },
  {
   "cell_type": "code",
   "execution_count": 87,
   "metadata": {},
   "outputs": [
    {
     "name": "stdout",
     "output_type": "stream",
     "text": [
      "[0.1        0.10909091 0.11818182 0.12727273 0.13636364 0.14545455\n",
      " 0.15454545 0.16363636 0.17272727 0.18181818 0.19090909 0.2\n",
      " 0.20909091 0.21818182 0.22727273 0.23636364 0.24545455 0.25454545\n",
      " 0.26363636 0.27272727 0.28181818 0.29090909 0.3        0.30909091\n",
      " 0.31818182 0.32727273 0.33636364 0.34545455 0.35454545 0.36363636\n",
      " 0.37272727 0.38181818 0.39090909 0.4        0.40909091 0.41818182\n",
      " 0.42727273 0.43636364 0.44545455 0.45454545 0.46363636 0.47272727\n",
      " 0.48181818 0.49090909 0.5        0.50909091 0.51818182 0.52727273\n",
      " 0.53636364 0.54545455 0.55454545 0.56363636 0.57272727 0.58181818\n",
      " 0.59090909 0.6        0.60909091 0.61818182 0.62727273 0.63636364\n",
      " 0.64545455 0.65454545 0.66363636 0.67272727 0.68181818 0.69090909\n",
      " 0.7        0.70909091 0.71818182 0.72727273 0.73636364 0.74545455\n",
      " 0.75454545 0.76363636 0.77272727 0.78181818 0.79090909 0.8\n",
      " 0.80909091 0.81818182 0.82727273 0.83636364 0.84545455 0.85454545\n",
      " 0.86363636 0.87272727 0.88181818 0.89090909 0.9        0.90909091\n",
      " 0.91818182 0.92727273 0.93636364 0.94545455 0.95454545 0.96363636\n",
      " 0.97272727 0.98181818 0.99090909 1.        ]\n"
     ]
    }
   ],
   "source": [
    "alphatest = np.linspace(0.1, 1.0, 100)\n",
    "print(alphatest)"
   ]
  },
  {
   "cell_type": "code",
   "execution_count": 88,
   "metadata": {},
   "outputs": [],
   "source": [
    "num_fig = 0\n",
    "for alpha in alphatest:\n",
    "    CreateFig(alpha, num_fig)\n",
    "    num_fig+=1"
   ]
  },
  {
   "cell_type": "code",
   "execution_count": 89,
   "metadata": {},
   "outputs": [],
   "source": [
    "#Para volverlo un gif\n",
    "!convert plots/* -loop 0 -delay 200 decay.gif"
   ]
  },
  {
   "cell_type": "code",
   "execution_count": 90,
   "metadata": {},
   "outputs": [],
   "source": [
    "final = np.array(mean_)\n",
    "\n",
    "np.savetxt('data/MeanLifeTime.dat', final, \n",
    "           fmt='%.9e', \n",
    "           delimiter=' ')"
   ]
  },
  {
   "cell_type": "code",
   "execution_count": null,
   "metadata": {},
   "outputs": [],
   "source": []
  }
 ],
 "metadata": {
  "kernelspec": {
   "display_name": "Python 3",
   "language": "python",
   "name": "python3"
  },
  "language_info": {
   "codemirror_mode": {
    "name": "ipython",
    "version": 3
   },
   "file_extension": ".py",
   "mimetype": "text/x-python",
   "name": "python",
   "nbconvert_exporter": "python",
   "pygments_lexer": "ipython3",
   "version": "3.8.3"
  }
 },
 "nbformat": 4,
 "nbformat_minor": 4
}
